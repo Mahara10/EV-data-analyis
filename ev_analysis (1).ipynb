{
  "nbformat": 4,
  "nbformat_minor": 0,
  "metadata": {
    "colab": {
      "provenance": []
    },
    "kernelspec": {
      "name": "python3",
      "display_name": "Python 3"
    },
    "language_info": {
      "name": "python"
    }
  },
  "cells": [
    {
      "cell_type": "code",
      "execution_count": null,
      "metadata": {
        "id": "anfl9krtNKIV"
      },
      "outputs": [],
      "source": [
        "import pandas as pd\n",
        "import matplotlib.pyplot as plt\n",
        "import seaborn as sns\n",
        "\n",
        "# Load the data (adjust the file path as needed)\n",
        "file_path = 'Electric_Vehicle_Population_Data.csv'  # Replace with your file path\n",
        "df = pd.read_csv(file_path)"
      ]
    },
    {
      "cell_type": "code",
      "source": [
        "df.info()\n",
        "df.isnull().sum()"
      ],
      "metadata": {
        "id": "96GW2ErsOuHg"
      },
      "execution_count": null,
      "outputs": []
    },
    {
      "cell_type": "code",
      "source": [
        "df['Electric Range'] = df['Electric Range'].fillna(0)\n",
        "df.dropna(inplace=True)\n"
      ],
      "metadata": {
        "id": "4vDb43mLOuJ-"
      },
      "execution_count": null,
      "outputs": []
    },
    {
      "cell_type": "code",
      "source": [
        "df['Model Year'] = df['Model Year'].astype(int)\n",
        "df['Base MSRP'] = pd.to_numeric(df['Base MSRP'], errors='coerce').fillna(0)"
      ],
      "metadata": {
        "id": "nzLFSwCPOuMZ"
      },
      "execution_count": null,
      "outputs": []
    },
    {
      "cell_type": "code",
      "source": [
        "plt.figure(figsize=(10, 5))\n",
        "sns.histplot(df['Model Year'], kde=True, color='blue', bins=20)\n",
        "plt.title('Distribution of Electric Vehicles by Model Year')\n",
        "plt.xlabel('Model Year')\n",
        "plt.ylabel('Frequency')\n",
        "plt.show()"
      ],
      "metadata": {
        "id": "XwmaltIvOuOs"
      },
      "execution_count": null,
      "outputs": []
    },
    {
      "cell_type": "code",
      "source": [
        "top_makes = df['Make'].value_counts().head(10)\n",
        "plt.figure(figsize=(10, 5))\n",
        "sns.barplot(x=top_makes.index, y=top_makes.values, palette='muted')\n",
        "plt.title('Top 10 Vehicle Makes')\n",
        "plt.xlabel('Make')\n",
        "plt.ylabel('Number of Vehicles')\n",
        "plt.xticks(rotation=45)\n",
        "plt.show()\n",
        "\n"
      ],
      "metadata": {
        "id": "cpdZx6PsOuRN"
      },
      "execution_count": null,
      "outputs": []
    },
    {
      "cell_type": "code",
      "source": [
        "plt.figure(figsize=(10, 6))\n",
        "sns.histplot(df['Electric Range'], bins=30, kde=True, color='green')\n",
        "plt.title('Distribution of Electric Range')\n",
        "plt.xlabel('Electric Range (miles)')\n",
        "plt.ylabel('Frequency')\n",
        "plt.show()"
      ],
      "metadata": {
        "id": "eeLH037wOuTf"
      },
      "execution_count": null,
      "outputs": []
    },
    {
      "cell_type": "code",
      "source": [
        "plt.figure(figsize=(10, 6))\n",
        "sns.scatterplot(x='Base MSRP', y='Electric Range', hue='Make', data=df, alpha=0.7, palette='tab10')\n",
        "plt.title('Electric Range vs Base MSRP by Make')\n",
        "plt.xlabel('Base MSRP ($)')\n",
        "plt.ylabel('Electric Range (miles)')\n",
        "plt.legend(bbox_to_anchor=(1.05, 1), loc='upper left')\n",
        "plt.show()"
      ],
      "metadata": {
        "id": "C1Zm7liYOuWT"
      },
      "execution_count": null,
      "outputs": []
    },
    {
      "cell_type": "code",
      "source": [
        "cafv_by_make = df.groupby('Make')['Clean Alternative Fuel Vehicle (CAFV) Eligibility'].value_counts().unstack().fillna(0)\n",
        "cafv_by_make.plot(kind='bar', stacked=True, figsize=(12, 6), colormap='coolwarm')\n",
        "plt.title('CAFV Eligibility by Make')\n",
        "plt.xlabel('Make')\n",
        "plt.ylabel('Count')\n",
        "plt.legend(title='CAFV Eligibility', bbox_to_anchor=(1.05, 1), loc='upper left')\n",
        "plt.show()"
      ],
      "metadata": {
        "id": "hxmPplvAOuZv"
      },
      "execution_count": null,
      "outputs": []
    },
    {
      "cell_type": "code",
      "source": [
        "avg_range_by_state = df.groupby('City')['Electric Range'].mean().sort_values(ascending=False).head(10)\n",
        "plt.figure(figsize=(10, 5))\n",
        "sns.barplot(x=avg_range_by_state.values, y=avg_range_by_state.index, palette='viridis')\n",
        "plt.title('Top 10 City by Average Electric Range')\n",
        "plt.xlabel('Average Electric Range (miles)')\n",
        "plt.ylabel('City')\n",
        "plt.show()"
      ],
      "metadata": {
        "id": "wFnGLE1IOkQf"
      },
      "execution_count": null,
      "outputs": []
    },
    {
      "cell_type": "code",
      "source": [
        "# Select only numeric columns before calculating correlation\n",
        "numeric_df = df.select_dtypes(include=['number'])\n",
        "\n",
        "plt.figure(figsize=(8, 6))\n",
        "sns.heatmap(numeric_df.corr(), annot=True, cmap='coolwarm', fmt=\".2f\")\n",
        "plt.title('Correlation Heatmap')\n",
        "plt.show()"
      ],
      "metadata": {
        "id": "SQgBQO1APzy6"
      },
      "execution_count": null,
      "outputs": []
    },
    {
      "cell_type": "code",
      "source": [
        "# a. Percentage of Electric Vehicles Eligible for CAFV\n",
        "eligible_percentage = (\n",
        "    (df['Clean Alternative Fuel Vehicle (CAFV) Eligibility'] == 'Eligible').mean() * 100\n",
        ")\n",
        "print(f\"Percentage of vehicles eligible for CAFV: {eligible_percentage:.2f}%\")"
      ],
      "metadata": {
        "id": "GTS8e7OIPz1J"
      },
      "execution_count": null,
      "outputs": []
    },
    {
      "cell_type": "code",
      "source": [
        "common_ev_type_by_city = (\n",
        "    df.groupby('City')['Electric Vehicle Type'].value_counts().unstack().idxmax(axis=1)\n",
        ")\n",
        "print(\"\\nMost common Electric Vehicle Type by City:\")\n",
        "print(common_ev_type_by_city.head(10))\n"
      ],
      "metadata": {
        "id": "nPZ92fVHPz3x"
      },
      "execution_count": null,
      "outputs": []
    },
    {
      "cell_type": "code",
      "source": [
        "import plotly.express as px\n",
        "\n",
        "fig_scatter = px.scatter(\n",
        "    df,\n",
        "    x=\"Base MSRP\",\n",
        "    y=\"Electric Range\",\n",
        "    color=\"Make\",\n",
        "    size=\"Electric Range\",\n",
        "    hover_data=[\"Model Year\", \"City\", \"State\"],\n",
        "    title=\"Electric Range vs Base MSRP (Interactive)\",\n",
        "    labels={\"Base MSRP\": \"Base MSRP ($)\", \"Electric Range\": \"Electric Range (miles)\"},\n",
        ")\n",
        "fig_scatter.show()"
      ],
      "metadata": {
        "id": "LMVfeX8APz9y"
      },
      "execution_count": null,
      "outputs": []
    },
    {
      "cell_type": "code",
      "source": [
        "fig_violin = px.violin(\n",
        "    df,\n",
        "    x=\"Model Year\",\n",
        "    y=\"Electric Range\",\n",
        "    color=\"Make\",\n",
        "    box=True,\n",
        "    points=\"all\",\n",
        "    title=\"Electric Range Distribution by Model Year\",\n",
        "    labels={\"Model Year\": \"Model Year\", \"Electric Range\": \"Electric Range (miles)\"},\n",
        ")\n",
        "fig_violin.show()\n"
      ],
      "metadata": {
        "id": "RTwmKsPvTA_0"
      },
      "execution_count": null,
      "outputs": []
    },
    {
      "cell_type": "code",
      "source": [
        "top_makes = df.groupby(\"Make\")[[\"Electric Range\", \"Base MSRP\"]].mean().sort_values(by=\"Electric Range\", ascending=False).head(10)\n",
        "fig_bar = px.bar(\n",
        "    top_makes.reset_index(),\n",
        "    x=\"Make\",\n",
        "    y=[\"Electric Range\", \"Base MSRP\"],\n",
        "    barmode=\"group\",\n",
        "    title=\"Top 10 Makes with Average Electric Range and MSRP\",\n",
        "    labels={\"value\": \"Value\", \"variable\": \"Metric\"},\n",
        "    text_auto=True,\n",
        ")\n",
        "fig_bar.show()"
      ],
      "metadata": {
        "id": "7mew-_GTTHjG"
      },
      "execution_count": null,
      "outputs": []
    },
    {
      "cell_type": "code",
      "source": [
        "ig_sunburst = px.sunburst(\n",
        "    df,\n",
        "    path=[\"State\", \"Electric Vehicle Type\"],\n",
        "    values=\"Electric Range\",\n",
        "    color=\"Electric Range\",\n",
        "    title=\"Distribution of Electric Vehicle Types by State\",\n",
        "    color_continuous_scale=\"RdBu\",\n",
        ")"
      ],
      "metadata": {
        "id": "vTTq8VizTHlm"
      },
      "execution_count": null,
      "outputs": []
    },
    {
      "cell_type": "code",
      "source": [
        "fig_parallel = px.parallel_categories(\n",
        "    df,\n",
        "    dimensions=[\"Make\", \"Electric Vehicle Type\", \"Clean Alternative Fuel Vehicle (CAFV) Eligibility\"],\n",
        "    color=\"Electric Range\",\n",
        "    color_continuous_scale=\"Blues\",\n",
        "    title=\"Parallel Categories Plot for Vehicle Characteristics\",\n",
        ")\n",
        "fig_parallel.show()\n"
      ],
      "metadata": {
        "id": "F9w-esktTHn1"
      },
      "execution_count": null,
      "outputs": []
    },
    {
      "cell_type": "code",
      "source": [
        "range_trends = df.groupby(\"Model Year\")[\"Electric Range\"].mean().reset_index()\n",
        "fig_line = px.line(\n",
        "    range_trends,\n",
        "    x=\"Model Year\",\n",
        "    y=\"Electric Range\",\n",
        "    title=\"Average Electric Range Trends by Model Year\",\n",
        "    markers=True,\n",
        "    labels={\"Model Year\": \"Model Year\", \"Electric Range\": \"Average Electric Range (miles)\"},\n",
        ")\n",
        "fig_line.show()"
      ],
      "metadata": {
        "id": "-JtcG8YaTHqO"
      },
      "execution_count": null,
      "outputs": []
    },
    {
      "cell_type": "code",
      "source": [
        "fig_box = px.box(\n",
        "    df,\n",
        "    x=\"Electric Vehicle Type\",\n",
        "    y=\"Base MSRP\",\n",
        "    color=\"Electric Vehicle Type\",\n",
        "    title=\"Base MSRP Distribution by Electric Vehicle Type\",\n",
        "    points=\"all\",\n",
        "    hover_data=[\"Make\", \"Model\"],\n",
        "    labels={\"Base MSRP\": \"Base MSRP ($)\"},\n",
        ")\n",
        "fig_box.show()"
      ],
      "metadata": {
        "id": "s29R0osWTHse"
      },
      "execution_count": null,
      "outputs": []
    },
    {
      "cell_type": "code",
      "source": [],
      "metadata": {
        "id": "ziJrXXDZTHv7"
      },
      "execution_count": null,
      "outputs": []
    }
  ]
}